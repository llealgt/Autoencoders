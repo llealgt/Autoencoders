{
 "cells": [
  {
   "cell_type": "markdown",
   "metadata": {},
   "source": [
    "## Denoising\n",
    "\n",
    "Autoencoders can be used to denoise images quite successfully just by training the network on noisy images. We can create the noisy images ourselves by adding Gaussian noise to the training images, then clipping the values to be between 0 and 1. We'll use noisy images as input and the original, clean images as targets. Here's an example of the noisy images I generated and the denoised images.\n",
    "\n",
    "![Denoising autoencoder](assets/denoising.png)\n",
    "\n",
    "\n",
    "Since this is a harder problem for the network, we'll want to use deeper convolutional layers here, more feature maps. I suggest something like 32-32-16 for the depths of the convolutional layers in the encoder, and the same depths going backward through the decoder. Otherwise the architecture is the same as the convolutional autoencoder.\n",
    "\n",
    "> **Exercise:** Build the network for the denoising autoencoder. It's the same as before, but with deeper layers. I suggest 32-32-16 for the depths, but you can play with these numbers, or add more layers."
   ]
  },
  {
   "cell_type": "code",
   "execution_count": 1,
   "metadata": {
    "collapsed": true
   },
   "outputs": [],
   "source": [
    "%matplotlib inline\n",
    "\n",
    "import numpy as np\n",
    "import tensorflow as tf\n",
    "import matplotlib.pyplot as plt"
   ]
  },
  {
   "cell_type": "code",
   "execution_count": 2,
   "metadata": {},
   "outputs": [
    {
     "name": "stdout",
     "output_type": "stream",
     "text": [
      "Extracting MNIST_data/train-images-idx3-ubyte.gz\n",
      "Extracting MNIST_data/train-labels-idx1-ubyte.gz\n",
      "Extracting MNIST_data/t10k-images-idx3-ubyte.gz\n",
      "Extracting MNIST_data/t10k-labels-idx1-ubyte.gz\n"
     ]
    }
   ],
   "source": [
    "from tensorflow.examples.tutorials.mnist import input_data\n",
    "mnist = input_data.read_data_sets('MNIST_data', validation_size=0)"
   ]
  },
  {
   "cell_type": "code",
   "execution_count": 3,
   "metadata": {},
   "outputs": [
    {
     "data": {
      "text/plain": [
       "<matplotlib.image.AxesImage at 0x7f381eb75b38>"
      ]
     },
     "execution_count": 3,
     "metadata": {},
     "output_type": "execute_result"
    },
    {
     "data": {
      "image/png": "[encoded data removed]",
      "text/plain": [
       "<matplotlib.figure.Figure at 0x7f3822b03a58>"
      ]
     },
     "metadata": {},
     "output_type": "display_data"
    }
   ],
   "source": [
    "img = mnist.train.images[3]\n",
    "plt.imshow(img.reshape((28, 28)), cmap='Greys_r')"
   ]
  },
  {
   "cell_type": "code",
   "execution_count": 4,
   "metadata": {},
   "outputs": [],
   "source": [
    "learning_rate = 0.001\n",
    "inputs_ = tf.placeholder(tf.float32, (None, 28, 28, 1), name='inputs')\n",
    "targets_ = tf.placeholder(tf.float32, (None, 28, 28, 1), name='targets')\n",
    "kernel_dimension = 5\n",
    "pool_dimension = 2\n",
    "pool_stride = 2\n",
    "\n",
    "### Encoder\n",
    "conv1 = tf.layers.conv2d(inputs_,32 ,(kernel_dimension,kernel_dimension),padding='same',activation=tf.nn.relu)\n",
    "# Now 28x28x32\n",
    "maxpool1 = tf.layers.max_pooling2d(conv1,(pool_dimension,pool_dimension),(pool_stride,pool_stride),padding='same')\n",
    "# Now 14x14x32\n",
    "conv2 = tf.layers.conv2d(maxpool1,32,(kernel_dimension,kernel_dimension),padding='same',activation=tf.nn.relu)\n",
    "# Now 14x14x32\n",
    "maxpool2 =  tf.layers.max_pooling2d(conv2,(pool_dimension,pool_dimension),(pool_stride,pool_stride),padding='same')\n",
    "# Now 7x7x32\n",
    "conv3 = tf.layers.conv2d(maxpool2,16,(kernel_dimension,kernel_dimension),padding='same',activation=tf.nn.relu)\n",
    "# Now 7x7x16\n",
    "encoded = tf.layers.max_pooling2d(conv3,(pool_dimension,pool_dimension),(pool_stride,pool_stride),padding='same')\n",
    "# Now 4x4x16\n",
    "\n",
    "### Decoder\n",
    "upsample1 = tf.image.resize_nearest_neighbor(encoded,(7,7))\n",
    "# Now 7x7x16\n",
    "conv4 = tf.layers.conv2d(upsample1,16,(kernel_dimension,kernel_dimension),padding='same',activation=tf.nn.relu)\n",
    "# Now 7x7x16\n",
    "upsample2 = tf.image.resize_nearest_neighbor(conv4,(14,14))\n",
    "# Now 14x14x16\n",
    "conv5 = tf.layers.conv2d(upsample2,32,(kernel_dimension,kernel_dimension),padding='same',activation=tf.nn.relu)\n",
    "# Now 14x14x32\n",
    "upsample3 = tf.image.resize_nearest_neighbor(conv5,(28,28))\n",
    "# Now 28x28x32\n",
    "conv6 = tf.layers.conv2d(upsample3,32,(kernel_dimension,kernel_dimension),padding='same',activation=tf.nn.relu)\n",
    "# Now 28x28x32\n",
    "\n",
    "logits = tf.layers.conv2d(conv6,1,(kernel_dimension,kernel_dimension),padding='same',activation=None)\n",
    "#Now 28x28x1\n",
    "\n",
    "# Pass logits through sigmoid to get reconstructed image\n",
    "decoded = tf.nn.sigmoid(logits)\n",
    "\n",
    "# Pass logits through sigmoid and calculate the cross-entropy loss\n",
    "loss = tf.nn.sigmoid_cross_entropy_with_logits(logits=logits,labels=targets_)\n",
    "\n",
    "# Get cost and define the optimizer\n",
    "cost = tf.reduce_mean(loss)\n",
    "opt = tf.train.AdamOptimizer(learning_rate).minimize(cost)"
   ]
  },
  {
   "cell_type": "code",
   "execution_count": null,
   "metadata": {
    "collapsed": true
   },
   "outputs": [],
   "source": [
    "sess = tf.Session()"
   ]
  },
  {
   "cell_type": "code",
   "execution_count": null,
   "metadata": {},
   "outputs": [
    {
     "name": "stdout",
     "output_type": "stream",
     "text": [
      "Epoch: 1/100... Training loss: 0.6892\n",
      "Epoch: 1/100... Training loss: 0.2068\n",
      "Epoch: 1/100... Training loss: 0.1672\n",
      "Epoch: 2/100... Training loss: 0.1418\n",
      "Epoch: 2/100... Training loss: 0.1363\n",
      "Epoch: 2/100... Training loss: 0.1286\n",
      "Epoch: 3/100... Training loss: 0.1220\n",
      "Epoch: 3/100... Training loss: 0.1210\n",
      "Epoch: 3/100... Training loss: 0.1201\n",
      "Epoch: 4/100... Training loss: 0.1207\n",
      "Epoch: 4/100... Training loss: 0.1172\n",
      "Epoch: 4/100... Training loss: 0.1131\n",
      "Epoch: 5/100... Training loss: 0.1157\n",
      "Epoch: 5/100... Training loss: 0.1147\n",
      "Epoch: 5/100... Training loss: 0.1121\n",
      "Epoch: 6/100... Training loss: 0.1089\n",
      "Epoch: 6/100... Training loss: 0.1079\n",
      "Epoch: 6/100... Training loss: 0.1106\n",
      "Epoch: 7/100... Training loss: 0.1066\n",
      "Epoch: 7/100... Training loss: 0.1073\n",
      "Epoch: 7/100... Training loss: 0.1053\n",
      "Epoch: 8/100... Training loss: 0.1066\n",
      "Epoch: 8/100... Training loss: 0.1036\n",
      "Epoch: 8/100... Training loss: 0.1057\n",
      "Epoch: 9/100... Training loss: 0.1047\n",
      "Epoch: 9/100... Training loss: 0.1036\n",
      "Epoch: 9/100... Training loss: 0.1034\n",
      "Epoch: 10/100... Training loss: 0.1030\n",
      "Epoch: 10/100... Training loss: 0.1030\n",
      "Epoch: 10/100... Training loss: 0.1019\n",
      "Epoch: 11/100... Training loss: 0.0991\n",
      "Epoch: 11/100... Training loss: 0.1022\n",
      "Epoch: 11/100... Training loss: 0.1002\n",
      "Epoch: 12/100... Training loss: 0.1012\n",
      "Epoch: 12/100... Training loss: 0.0973\n",
      "Epoch: 12/100... Training loss: 0.1012\n",
      "Epoch: 13/100... Training loss: 0.1037\n",
      "Epoch: 13/100... Training loss: 0.1046\n",
      "Epoch: 13/100... Training loss: 0.1044\n",
      "Epoch: 14/100... Training loss: 0.1001\n",
      "Epoch: 14/100... Training loss: 0.0993\n",
      "Epoch: 14/100... Training loss: 0.1039\n",
      "Epoch: 15/100... Training loss: 0.1038\n",
      "Epoch: 15/100... Training loss: 0.0994\n",
      "Epoch: 15/100... Training loss: 0.0981\n",
      "Epoch: 16/100... Training loss: 0.0987\n",
      "Epoch: 16/100... Training loss: 0.1012\n",
      "Epoch: 16/100... Training loss: 0.0949\n",
      "Epoch: 17/100... Training loss: 0.1004\n",
      "Epoch: 17/100... Training loss: 0.1025\n",
      "Epoch: 17/100... Training loss: 0.0991\n",
      "Epoch: 18/100... Training loss: 0.0986\n",
      "Epoch: 18/100... Training loss: 0.0972\n",
      "Epoch: 18/100... Training loss: 0.1016\n",
      "Epoch: 19/100... Training loss: 0.0976\n",
      "Epoch: 19/100... Training loss: 0.0968\n",
      "Epoch: 19/100... Training loss: 0.0980\n"
     ]
    }
   ],
   "source": [
    "epochs = 100\n",
    "batch_size = 200\n",
    "step_counter = 0\n",
    "# Set's how much noise we're adding to the MNIST images\n",
    "noise_factor = 0.5\n",
    "sess.run(tf.global_variables_initializer())\n",
    "for e in range(epochs):\n",
    "    for ii in range(mnist.train.num_examples//batch_size):\n",
    "        batch = mnist.train.next_batch(batch_size)\n",
    "        # Get images from the batch\n",
    "        imgs = batch[0].reshape((-1, 28, 28, 1))\n",
    "        \n",
    "        # Add random noise to the input images\n",
    "        noisy_imgs = imgs + noise_factor * np.random.randn(*imgs.shape)\n",
    "        # Clip the images to be between 0 and 1\n",
    "        noisy_imgs = np.clip(noisy_imgs, 0., 1.)\n",
    "        \n",
    "        # Noisy images as inputs, original images as targets\n",
    "        batch_cost, _ = sess.run([cost, opt], feed_dict={inputs_: noisy_imgs,\n",
    "                                                         targets_: imgs})\n",
    "\n",
    "        if step_counter%100 == 0:\n",
    "            print(\"Epoch: {}/{}...\".format(e+1, epochs),\n",
    "              \"Training loss: {:.4f}\".format(batch_cost))\n",
    "        step_counter+=1"
   ]
  },
  {
   "cell_type": "code",
   "execution_count": null,
   "metadata": {
    "collapsed": true
   },
   "outputs": [],
   "source": []
  }
 ],
 "metadata": {
  "kernelspec": {
   "display_name": "Python 3",
   "language": "python",
   "name": "python3"
  },
  "language_info": {
   "codemirror_mode": {
    "name": "ipython",
    "version": 3
   },
   "file_extension": ".py",
   "mimetype": "text/x-python",
   "name": "python",
   "nbconvert_exporter": "python",
   "pygments_lexer": "ipython3",
   "version": "3.6.1"
  }
 },
 "nbformat": 4,
 "nbformat_minor": 2
}
